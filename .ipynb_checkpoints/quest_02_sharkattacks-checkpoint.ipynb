{
 "cells": [
  {
   "cell_type": "code",
   "execution_count": 1,
   "id": "844e6429-4d0c-4b35-8e96-2f6a7663b1a4",
   "metadata": {},
   "outputs": [],
   "source": [
    "#!pip install xlrd"
   ]
  },
  {
   "cell_type": "code",
   "execution_count": 2,
   "id": "37c7e18d-2be6-49bb-8c2d-dbb00c0ba1a7",
   "metadata": {},
   "outputs": [],
   "source": [
    "import re\n",
    "import pandas as pd\n",
    "import numpy as np\n",
    "import seaborn as sns\n",
    "\n",
    "# define path to xls\n",
    "url = 'https://www.sharkattackfile.net/spreadsheets/GSAF5.xls'\n",
    "df = pd.read_excel(url)"
   ]
  },
  {
   "cell_type": "code",
   "execution_count": 3,
   "id": "4b677ac4-5b96-49a0-b89c-182b2cdfb690",
   "metadata": {},
   "outputs": [
    {
     "data": {
      "text/plain": [
       "Index(['Date', 'Year', 'Type', 'Country', 'State', 'Location', 'Activity',\n",
       "       'Name', 'Sex', 'Age', 'Injury', 'Fatal Y/N', 'Time', 'Species ',\n",
       "       'Source', 'pdf', 'href formula', 'href', 'Case Number', 'Case Number.1',\n",
       "       'original order', 'Unnamed: 21', 'Unnamed: 22'],\n",
       "      dtype='object')"
      ]
     },
     "execution_count": 3,
     "metadata": {},
     "output_type": "execute_result"
    }
   ],
   "source": [
    "# list columns\n",
    "df.columns"
   ]
  },
  {
   "cell_type": "code",
   "execution_count": 4,
   "id": "95ea3dfe-a5a4-4fdb-88bd-e376abcca867",
   "metadata": {},
   "outputs": [
    {
     "data": {
      "text/html": [
       "<div>\n",
       "<style scoped>\n",
       "    .dataframe tbody tr th:only-of-type {\n",
       "        vertical-align: middle;\n",
       "    }\n",
       "\n",
       "    .dataframe tbody tr th {\n",
       "        vertical-align: top;\n",
       "    }\n",
       "\n",
       "    .dataframe thead th {\n",
       "        text-align: right;\n",
       "    }\n",
       "</style>\n",
       "<table border=\"1\" class=\"dataframe\">\n",
       "  <thead>\n",
       "    <tr style=\"text-align: right;\">\n",
       "      <th></th>\n",
       "      <th>Date</th>\n",
       "      <th>Year</th>\n",
       "      <th>Type</th>\n",
       "      <th>Country</th>\n",
       "      <th>State</th>\n",
       "      <th>Location</th>\n",
       "      <th>Activity</th>\n",
       "      <th>Name</th>\n",
       "      <th>Sex</th>\n",
       "      <th>Age</th>\n",
       "      <th>...</th>\n",
       "      <th>Species</th>\n",
       "      <th>Source</th>\n",
       "      <th>pdf</th>\n",
       "      <th>href formula</th>\n",
       "      <th>href</th>\n",
       "      <th>Case Number</th>\n",
       "      <th>Case Number.1</th>\n",
       "      <th>original order</th>\n",
       "      <th>Unnamed: 21</th>\n",
       "      <th>Unnamed: 22</th>\n",
       "    </tr>\n",
       "  </thead>\n",
       "  <tbody>\n",
       "    <tr>\n",
       "      <th>0</th>\n",
       "      <td>False</td>\n",
       "      <td>False</td>\n",
       "      <td>False</td>\n",
       "      <td>False</td>\n",
       "      <td>True</td>\n",
       "      <td>False</td>\n",
       "      <td>False</td>\n",
       "      <td>False</td>\n",
       "      <td>False</td>\n",
       "      <td>False</td>\n",
       "      <td>...</td>\n",
       "      <td>False</td>\n",
       "      <td>False</td>\n",
       "      <td>True</td>\n",
       "      <td>True</td>\n",
       "      <td>True</td>\n",
       "      <td>True</td>\n",
       "      <td>True</td>\n",
       "      <td>True</td>\n",
       "      <td>True</td>\n",
       "      <td>True</td>\n",
       "    </tr>\n",
       "    <tr>\n",
       "      <th>1</th>\n",
       "      <td>False</td>\n",
       "      <td>False</td>\n",
       "      <td>False</td>\n",
       "      <td>False</td>\n",
       "      <td>True</td>\n",
       "      <td>False</td>\n",
       "      <td>False</td>\n",
       "      <td>False</td>\n",
       "      <td>False</td>\n",
       "      <td>False</td>\n",
       "      <td>...</td>\n",
       "      <td>False</td>\n",
       "      <td>False</td>\n",
       "      <td>True</td>\n",
       "      <td>True</td>\n",
       "      <td>True</td>\n",
       "      <td>True</td>\n",
       "      <td>True</td>\n",
       "      <td>True</td>\n",
       "      <td>True</td>\n",
       "      <td>True</td>\n",
       "    </tr>\n",
       "    <tr>\n",
       "      <th>2</th>\n",
       "      <td>False</td>\n",
       "      <td>False</td>\n",
       "      <td>False</td>\n",
       "      <td>False</td>\n",
       "      <td>False</td>\n",
       "      <td>False</td>\n",
       "      <td>False</td>\n",
       "      <td>False</td>\n",
       "      <td>False</td>\n",
       "      <td>False</td>\n",
       "      <td>...</td>\n",
       "      <td>False</td>\n",
       "      <td>False</td>\n",
       "      <td>True</td>\n",
       "      <td>True</td>\n",
       "      <td>True</td>\n",
       "      <td>True</td>\n",
       "      <td>True</td>\n",
       "      <td>True</td>\n",
       "      <td>True</td>\n",
       "      <td>True</td>\n",
       "    </tr>\n",
       "    <tr>\n",
       "      <th>3</th>\n",
       "      <td>False</td>\n",
       "      <td>False</td>\n",
       "      <td>False</td>\n",
       "      <td>False</td>\n",
       "      <td>False</td>\n",
       "      <td>False</td>\n",
       "      <td>False</td>\n",
       "      <td>False</td>\n",
       "      <td>False</td>\n",
       "      <td>False</td>\n",
       "      <td>...</td>\n",
       "      <td>False</td>\n",
       "      <td>False</td>\n",
       "      <td>True</td>\n",
       "      <td>True</td>\n",
       "      <td>True</td>\n",
       "      <td>True</td>\n",
       "      <td>True</td>\n",
       "      <td>True</td>\n",
       "      <td>True</td>\n",
       "      <td>True</td>\n",
       "    </tr>\n",
       "    <tr>\n",
       "      <th>4</th>\n",
       "      <td>False</td>\n",
       "      <td>False</td>\n",
       "      <td>False</td>\n",
       "      <td>False</td>\n",
       "      <td>False</td>\n",
       "      <td>False</td>\n",
       "      <td>False</td>\n",
       "      <td>False</td>\n",
       "      <td>False</td>\n",
       "      <td>False</td>\n",
       "      <td>...</td>\n",
       "      <td>False</td>\n",
       "      <td>False</td>\n",
       "      <td>True</td>\n",
       "      <td>True</td>\n",
       "      <td>True</td>\n",
       "      <td>True</td>\n",
       "      <td>True</td>\n",
       "      <td>True</td>\n",
       "      <td>True</td>\n",
       "      <td>True</td>\n",
       "    </tr>\n",
       "    <tr>\n",
       "      <th>...</th>\n",
       "      <td>...</td>\n",
       "      <td>...</td>\n",
       "      <td>...</td>\n",
       "      <td>...</td>\n",
       "      <td>...</td>\n",
       "      <td>...</td>\n",
       "      <td>...</td>\n",
       "      <td>...</td>\n",
       "      <td>...</td>\n",
       "      <td>...</td>\n",
       "      <td>...</td>\n",
       "      <td>...</td>\n",
       "      <td>...</td>\n",
       "      <td>...</td>\n",
       "      <td>...</td>\n",
       "      <td>...</td>\n",
       "      <td>...</td>\n",
       "      <td>...</td>\n",
       "      <td>...</td>\n",
       "      <td>...</td>\n",
       "      <td>...</td>\n",
       "    </tr>\n",
       "    <tr>\n",
       "      <th>6995</th>\n",
       "      <td>False</td>\n",
       "      <td>False</td>\n",
       "      <td>False</td>\n",
       "      <td>False</td>\n",
       "      <td>False</td>\n",
       "      <td>False</td>\n",
       "      <td>False</td>\n",
       "      <td>False</td>\n",
       "      <td>False</td>\n",
       "      <td>True</td>\n",
       "      <td>...</td>\n",
       "      <td>True</td>\n",
       "      <td>False</td>\n",
       "      <td>False</td>\n",
       "      <td>False</td>\n",
       "      <td>False</td>\n",
       "      <td>False</td>\n",
       "      <td>False</td>\n",
       "      <td>False</td>\n",
       "      <td>True</td>\n",
       "      <td>True</td>\n",
       "    </tr>\n",
       "    <tr>\n",
       "      <th>6996</th>\n",
       "      <td>False</td>\n",
       "      <td>False</td>\n",
       "      <td>False</td>\n",
       "      <td>False</td>\n",
       "      <td>False</td>\n",
       "      <td>True</td>\n",
       "      <td>False</td>\n",
       "      <td>False</td>\n",
       "      <td>False</td>\n",
       "      <td>True</td>\n",
       "      <td>...</td>\n",
       "      <td>True</td>\n",
       "      <td>False</td>\n",
       "      <td>False</td>\n",
       "      <td>False</td>\n",
       "      <td>False</td>\n",
       "      <td>False</td>\n",
       "      <td>False</td>\n",
       "      <td>False</td>\n",
       "      <td>True</td>\n",
       "      <td>True</td>\n",
       "    </tr>\n",
       "    <tr>\n",
       "      <th>6997</th>\n",
       "      <td>False</td>\n",
       "      <td>False</td>\n",
       "      <td>False</td>\n",
       "      <td>False</td>\n",
       "      <td>False</td>\n",
       "      <td>False</td>\n",
       "      <td>False</td>\n",
       "      <td>False</td>\n",
       "      <td>False</td>\n",
       "      <td>True</td>\n",
       "      <td>...</td>\n",
       "      <td>True</td>\n",
       "      <td>False</td>\n",
       "      <td>False</td>\n",
       "      <td>False</td>\n",
       "      <td>False</td>\n",
       "      <td>False</td>\n",
       "      <td>False</td>\n",
       "      <td>False</td>\n",
       "      <td>True</td>\n",
       "      <td>True</td>\n",
       "    </tr>\n",
       "    <tr>\n",
       "      <th>6998</th>\n",
       "      <td>False</td>\n",
       "      <td>False</td>\n",
       "      <td>False</td>\n",
       "      <td>False</td>\n",
       "      <td>True</td>\n",
       "      <td>False</td>\n",
       "      <td>True</td>\n",
       "      <td>False</td>\n",
       "      <td>False</td>\n",
       "      <td>True</td>\n",
       "      <td>...</td>\n",
       "      <td>True</td>\n",
       "      <td>False</td>\n",
       "      <td>False</td>\n",
       "      <td>False</td>\n",
       "      <td>False</td>\n",
       "      <td>False</td>\n",
       "      <td>False</td>\n",
       "      <td>False</td>\n",
       "      <td>True</td>\n",
       "      <td>True</td>\n",
       "    </tr>\n",
       "    <tr>\n",
       "      <th>6999</th>\n",
       "      <td>False</td>\n",
       "      <td>False</td>\n",
       "      <td>False</td>\n",
       "      <td>False</td>\n",
       "      <td>False</td>\n",
       "      <td>False</td>\n",
       "      <td>False</td>\n",
       "      <td>False</td>\n",
       "      <td>False</td>\n",
       "      <td>False</td>\n",
       "      <td>...</td>\n",
       "      <td>True</td>\n",
       "      <td>False</td>\n",
       "      <td>False</td>\n",
       "      <td>False</td>\n",
       "      <td>False</td>\n",
       "      <td>False</td>\n",
       "      <td>False</td>\n",
       "      <td>False</td>\n",
       "      <td>True</td>\n",
       "      <td>True</td>\n",
       "    </tr>\n",
       "  </tbody>\n",
       "</table>\n",
       "<p>7000 rows × 23 columns</p>\n",
       "</div>"
      ],
      "text/plain": [
       "       Date   Year   Type  Country  State  Location  Activity   Name    Sex  \\\n",
       "0     False  False  False    False   True     False     False  False  False   \n",
       "1     False  False  False    False   True     False     False  False  False   \n",
       "2     False  False  False    False  False     False     False  False  False   \n",
       "3     False  False  False    False  False     False     False  False  False   \n",
       "4     False  False  False    False  False     False     False  False  False   \n",
       "...     ...    ...    ...      ...    ...       ...       ...    ...    ...   \n",
       "6995  False  False  False    False  False     False     False  False  False   \n",
       "6996  False  False  False    False  False      True     False  False  False   \n",
       "6997  False  False  False    False  False     False     False  False  False   \n",
       "6998  False  False  False    False   True     False      True  False  False   \n",
       "6999  False  False  False    False  False     False     False  False  False   \n",
       "\n",
       "        Age  ...  Species   Source    pdf  href formula   href  Case Number  \\\n",
       "0     False  ...     False   False   True          True   True         True   \n",
       "1     False  ...     False   False   True          True   True         True   \n",
       "2     False  ...     False   False   True          True   True         True   \n",
       "3     False  ...     False   False   True          True   True         True   \n",
       "4     False  ...     False   False   True          True   True         True   \n",
       "...     ...  ...       ...     ...    ...           ...    ...          ...   \n",
       "6995   True  ...      True   False  False         False  False        False   \n",
       "6996   True  ...      True   False  False         False  False        False   \n",
       "6997   True  ...      True   False  False         False  False        False   \n",
       "6998   True  ...      True   False  False         False  False        False   \n",
       "6999  False  ...      True   False  False         False  False        False   \n",
       "\n",
       "      Case Number.1  original order  Unnamed: 21  Unnamed: 22  \n",
       "0              True            True         True         True  \n",
       "1              True            True         True         True  \n",
       "2              True            True         True         True  \n",
       "3              True            True         True         True  \n",
       "4              True            True         True         True  \n",
       "...             ...             ...          ...          ...  \n",
       "6995          False           False         True         True  \n",
       "6996          False           False         True         True  \n",
       "6997          False           False         True         True  \n",
       "6998          False           False         True         True  \n",
       "6999          False           False         True         True  \n",
       "\n",
       "[7000 rows x 23 columns]"
      ]
     },
     "execution_count": 4,
     "metadata": {},
     "output_type": "execute_result"
    }
   ],
   "source": [
    "# find null data in df\n",
    "df.isnull()"
   ]
  },
  {
   "cell_type": "code",
   "execution_count": 5,
   "id": "901eb473-980f-4598-be33-f629553a5965",
   "metadata": {},
   "outputs": [
    {
     "data": {
      "text/plain": [
       "Date              False\n",
       "Year               True\n",
       "Type               True\n",
       "Country            True\n",
       "State              True\n",
       "Location           True\n",
       "Activity           True\n",
       "Name               True\n",
       "Sex                True\n",
       "Age                True\n",
       "Injury             True\n",
       "Fatal Y/N          True\n",
       "Time               True\n",
       "Species            True\n",
       "Source             True\n",
       "pdf                True\n",
       "href formula       True\n",
       "href               True\n",
       "Case Number        True\n",
       "Case Number.1      True\n",
       "original order     True\n",
       "Unnamed: 21        True\n",
       "Unnamed: 22        True\n",
       "dtype: bool"
      ]
     },
     "execution_count": 5,
     "metadata": {},
     "output_type": "execute_result"
    }
   ],
   "source": [
    "# find if null in df\n",
    "df.isna().any()"
   ]
  },
  {
   "cell_type": "code",
   "execution_count": 6,
   "id": "aae536c2-327e-449d-9035-e1b09dcb7564",
   "metadata": {},
   "outputs": [
    {
     "data": {
      "text/plain": [
       "Date                 0\n",
       "Year                 2\n",
       "Type                18\n",
       "Country             50\n",
       "State              484\n",
       "Location           566\n",
       "Activity           585\n",
       "Name               219\n",
       "Sex                579\n",
       "Age               2994\n",
       "Injury              35\n",
       "Fatal Y/N          561\n",
       "Time              3526\n",
       "Species           3132\n",
       "Source              19\n",
       "pdf                201\n",
       "href formula       206\n",
       "href               204\n",
       "Case Number        202\n",
       "Case Number.1      203\n",
       "original order     201\n",
       "Unnamed: 21       6999\n",
       "Unnamed: 22       6998\n",
       "dtype: int64"
      ]
     },
     "execution_count": 6,
     "metadata": {},
     "output_type": "execute_result"
    }
   ],
   "source": [
    "# find sum of null in df\n",
    "df.isna().sum()"
   ]
  },
  {
   "cell_type": "code",
   "execution_count": 7,
   "id": "4ffd3484-de22-4416-89cc-9864d08dc5e5",
   "metadata": {},
   "outputs": [
    {
     "data": {
      "text/plain": [
       "0       9\n",
       "1       9\n",
       "2       8\n",
       "3       8\n",
       "4       8\n",
       "       ..\n",
       "6995    5\n",
       "6996    6\n",
       "6997    5\n",
       "6998    7\n",
       "6999    4\n",
       "Length: 7000, dtype: int64"
      ]
     },
     "execution_count": 7,
     "metadata": {},
     "output_type": "execute_result"
    }
   ],
   "source": [
    "# count the number of missing null in df\n",
    "df.isna().sum(axis=1)"
   ]
  },
  {
   "cell_type": "code",
   "execution_count": 8,
   "id": "e019035e-38c8-46cc-9494-2c4e70da2be8",
   "metadata": {},
   "outputs": [
    {
     "name": "stdout",
     "output_type": "stream",
     "text": [
      "                     Date    Year        Type             Country  \\\n",
      "0     2025-02-10 00:00:00  2025.0  Unprovoked             Bahamas   \n",
      "1     2025-02-10 00:00:00  2025.0  Unprovoked             Bahamas   \n",
      "2     2025-02-07 00:00:00  2025.0  Unprovoked    Turks and Caicos   \n",
      "3     2025-02-03 00:00:00  2025.0  Unprovoked           Australia   \n",
      "4     2025-01-23 00:00:00  2025.0  Unprovoked           Australia   \n",
      "...                   ...     ...         ...                 ...   \n",
      "6995          Before 1903     0.0  Unprovoked           AUSTRALIA   \n",
      "6996          Before 1903     0.0  Unprovoked           AUSTRALIA   \n",
      "6997            1900-1905     0.0  Unprovoked                 USA   \n",
      "6998            1883-1889     0.0  Unprovoked              PANAMA   \n",
      "6999            1845-1853     0.0  Unprovoked  CEYLON (SRI LANKA)   \n",
      "\n",
      "                                      State  \\\n",
      "0                                       NaN   \n",
      "1                                       NaN   \n",
      "2     Near five Cays settlement West Caicos   \n",
      "3                                Queensland   \n",
      "4                         Western Australia   \n",
      "...                                     ...   \n",
      "6995                      Western Australia   \n",
      "6996                      Western Australia   \n",
      "6997                         North Carolina   \n",
      "6998                                    NaN   \n",
      "6999                       Eastern Province   \n",
      "\n",
      "                                 Location      Activity  \\\n",
      "0                              Bimini Bay      Swimming   \n",
      "1                              Bimini Bay      Swimming   \n",
      "2                     Thompson Cove Beach      Swimming   \n",
      "3            Woorim Beach, Bribie Island,      Swimming   \n",
      "4                          Shipwreck Cove       Bathing   \n",
      "...                                   ...           ...   \n",
      "6995                          Roebuck Bay        Diving   \n",
      "6996                                  NaN  Pearl diving   \n",
      "6997                       Ocracoke Inlet      Swimming   \n",
      "6998                 Panama Bay 8ºN, 79ºW           NaN   \n",
      "6999  Below the English fort, Trincomalee      Swimming   \n",
      "\n",
      "                       Name Sex  Age  \\\n",
      "0             Summer Layman   F   24   \n",
      "1            Rileigh Decker   F   20   \n",
      "2          Canadian tourist   F   55   \n",
      "3            Charlize Zmuda   F   17   \n",
      "4                      Boy    M   12   \n",
      "...                     ...  ..  ...   \n",
      "6995                   male   M  NaN   \n",
      "6996                  Ahmun   M  NaN   \n",
      "6997  Coast Guard personnel   M  NaN   \n",
      "6998        Jules Patterson   M  NaN   \n",
      "6999                   male   M   15   \n",
      "\n",
      "                                                 Injury Fatal Y/N      Time  \\\n",
      "0                                     Left foot injured         N   1830hrs   \n",
      "1     Severed archilles tendon artery severed nerves...         N   1830hrs   \n",
      "2        both hands bitten off and a bite to left thigh         N   Unknown   \n",
      "3                           Bites to arm and upper body         Y  1645 hrs   \n",
      "4                              Minor bite to lower body         N   1711hrs   \n",
      "...                                                 ...       ...       ...   \n",
      "6995                                              FATAL         Y       NaN   \n",
      "6996                                              FATAL         Y       NaN   \n",
      "6997                                              FATAL         Y       NaN   \n",
      "6998                                              FATAL         Y       NaN   \n",
      "6999  FATAL. \"Shark bit him in half, carrying away t...         Y       NaN   \n",
      "\n",
      "                   Species                                              Source  \n",
      "0                bull shark  Dail Mail Australia Todd Smith: Kevin McMurray...  \n",
      "1                bull shark  Dail Mail Australia Todd Smith: Kevin McMurray...  \n",
      "2     1.8m (6ft) bull shark  Todd Smith: Platform X Kevin McMurray  Trackin...  \n",
      "3                Bull shark           9 News: The Brisbane Times: The Guardian  \n",
      "4                Not stated                                     Bob Myatt GSAF  \n",
      "...                     ...                                                ...  \n",
      "6995                    NaN                   H. Taunton; N. Bartlett,  p. 234  \n",
      "6996                    NaN              H. Taunton; N. Bartlett,  pp. 233-234  \n",
      "6997                    NaN               F. Schwartz, p.23; C. Creswell, GSAF  \n",
      "6998                    NaN                                The Sun, 10/20/1938  \n",
      "6999                    NaN                                         S.W. Baker  \n",
      "\n",
      "[7000 rows x 15 columns]\n"
     ]
    }
   ],
   "source": [
    "# hid non useful columns\n",
    "df.drop(columns= ['pdf', 'href formula', 'href', 'Case Number', 'Case Number.1', 'original order', 'Unnamed: 21', 'Unnamed: 22'], inplace=True)\n",
    "print(df)"
   ]
  },
  {
   "cell_type": "code",
   "execution_count": 9,
   "id": "3dd97352-00f2-4ef7-afab-cb5004771a3b",
   "metadata": {},
   "outputs": [
    {
     "data": {
      "text/plain": [
       "True"
      ]
     },
     "execution_count": 9,
     "metadata": {},
     "output_type": "execute_result"
    }
   ],
   "source": [
    "# find if there's duplicates\n",
    "df.duplicated().any()"
   ]
  },
  {
   "cell_type": "code",
   "execution_count": 10,
   "id": "aa66e958-f7b7-4631-923d-8a34d6c024c4",
   "metadata": {},
   "outputs": [
    {
     "data": {
      "text/plain": [
       "1"
      ]
     },
     "execution_count": 10,
     "metadata": {},
     "output_type": "execute_result"
    }
   ],
   "source": [
    "# find amount of duplicates\n",
    "df.duplicated().sum()"
   ]
  },
  {
   "cell_type": "code",
   "execution_count": 16,
   "id": "92501832-5ace-4597-a94d-498001fe2641",
   "metadata": {},
   "outputs": [],
   "source": [
    "# delete duplicates\n",
    "df.drop_duplicates(inplace=True)\n",
    "df.reset_index(drop=True, inplace=True)"
   ]
  },
  {
   "cell_type": "code",
   "execution_count": 18,
   "id": "e510e3c8-8f1f-4b2b-ac98-58d22555c604",
   "metadata": {},
   "outputs": [],
   "source": [
    "# remove leading/trailing spaces\n",
    "df.columns = df.columns.str.strip()"
   ]
  },
  {
   "cell_type": "code",
   "execution_count": 20,
   "id": "f2aca88d-3a10-4afe-9137-c931152ef3b4",
   "metadata": {},
   "outputs": [],
   "source": [
    "# replace column titles to lowercase\n",
    "df.columns = df.columns.str.lower()"
   ]
  },
  {
   "cell_type": "code",
   "execution_count": 22,
   "id": "73a529e5-c432-4467-9063-077dcaaae3ff",
   "metadata": {},
   "outputs": [],
   "source": [
    "# replace non string values to string and transform them into lowercase\n",
    "\n",
    "columns_to_lowercase = ['type', 'country', 'state', 'location', 'activity', 'name', 'sex', 'injury', 'fatal y/n', 'time', 'source']\n",
    "\n",
    "for col in columns_to_lowercase:\n",
    "    if col in df.columns and df[col].dtype == 'object':\n",
    "        df[col] = df[col].str.lower()\n",
    "    else:\n",
    "        print(f\"Column '{col}' is not a string column or does not exist.\")"
   ]
  },
  {
   "cell_type": "code",
   "execution_count": 24,
   "id": "cc9b7413-d652-4eef-8b01-11e27904f406",
   "metadata": {},
   "outputs": [
    {
     "data": {
      "text/plain": [
       "<Axes: xlabel='sex', ylabel='count'>"
      ]
     },
     "execution_count": 24,
     "metadata": {},
     "output_type": "execute_result"
    },
    {
     "data": {
      "image/png": "[encoded data removed]",
      "text/plain": [
       "<Figure size 640x480 with 1 Axes>"
      ]
     },
     "metadata": {},
     "output_type": "display_data"
    }
   ],
   "source": [
    "# format unknown values into 'nan' and show bar chart of 'sex'\n",
    "\n",
    "df['sex'] = df['sex'].apply(lambda x: x if x in ['f', 'm', 'nan', np.nan] else 'nan')\n",
    "sns.countplot(x='sex', data=df)"
   ]
  },
  {
   "cell_type": "code",
   "execution_count": 26,
   "id": "e4becf3b-4ee6-43cb-b9e4-bb02c8e0f661",
   "metadata": {},
   "outputs": [
    {
     "data": {
      "text/plain": [
       "<Axes: xlabel='fatal y/n', ylabel='count'>"
      ]
     },
     "execution_count": 26,
     "metadata": {},
     "output_type": "execute_result"
    },
    {
     "data": {
      "image/png": "[encoded data removed]",
      "text/plain": [
       "<Figure size 640x480 with 1 Axes>"
      ]
     },
     "metadata": {},
     "output_type": "display_data"
    }
   ],
   "source": [
    "# format unknown values into 'nan' and show bar chart of 'fatal y/n'\n",
    "\n",
    "df['fatal y/n'] = df['fatal y/n'].apply(lambda x: x if x in ['y', 'n', 'nan', np.nan] else 'nan')\n",
    "sns.countplot(x='fatal y/n', data=df)"
   ]
  },
  {
   "cell_type": "code",
   "execution_count": 28,
   "id": "380b1f07-4202-4b7d-9f13-c6644ba444cf",
   "metadata": {},
   "outputs": [
    {
     "data": {
      "text/plain": [
       "<Axes: xlabel='type', ylabel='count'>"
      ]
     },
     "execution_count": 28,
     "metadata": {},
     "output_type": "execute_result"
    },
    {
     "data": {
      "image/png": "[encoded data removed]",
      "text/plain": [
       "<Figure size 640x480 with 1 Axes>"
      ]
     },
     "metadata": {},
     "output_type": "display_data"
    }
   ],
   "source": [
    "# format unknown values into 'nan' and show bar chart of 'type'\n",
    "\n",
    "df['type'] = df['type'].apply(lambda x: x if x in ['provoked', 'unprovoked', 'nan', np.nan] else 'nan')\n",
    "sns.countplot(x='type', data=df)"
   ]
  }
 ],
 "metadata": {
  "kernelspec": {
   "display_name": "Python [conda env:base] *",
   "language": "python",
   "name": "conda-base-py"
  },
  "language_info": {
   "codemirror_mode": {
    "name": "ipython",
    "version": 3
   },
   "file_extension": ".py",
   "mimetype": "text/x-python",
   "name": "python",
   "nbconvert_exporter": "python",
   "pygments_lexer": "ipython3",
   "version": "3.12.7"
  }
 },
 "nbformat": 4,
 "nbformat_minor": 5
}
